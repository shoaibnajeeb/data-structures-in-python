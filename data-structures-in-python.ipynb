{
 "cells": [
  {
   "cell_type": "code",
   "execution_count": null,
   "metadata": {
    "collapsed": true,
    "deletable": true,
    "editable": true
   },
   "outputs": [],
   "source": [
    "# LIST\n",
    "# an ordered collection of objects\n",
    "# contain different types of elements; list element can be any python object"
   ]
  },
  {
   "cell_type": "code",
   "execution_count": 3,
   "metadata": {
    "collapsed": false,
    "deletable": true,
    "editable": true
   },
   "outputs": [
    {
     "data": {
      "text/plain": [
       "[5, 'six', [1, 2, 3]]"
      ]
     },
     "execution_count": 3,
     "metadata": {},
     "output_type": "execute_result"
    }
   ],
   "source": [
    "# Define a list\n",
    "# x = [1, 2, 3]\n",
    "x = [5, \"six\", [1, 2, 3]]\n",
    "x\n"
   ]
  },
  {
   "cell_type": "code",
   "execution_count": 8,
   "metadata": {
    "collapsed": false,
    "deletable": true,
    "editable": true
   },
   "outputs": [
    {
     "name": "stdout",
     "output_type": "stream",
     "text": [
      "four six\n"
     ]
    }
   ],
   "source": [
    "# Accessing list elements / List indexing\n",
    "x1 = [\"one\", \"two\", \"three\", \"four\"]\n",
    "# print x1[0], x1[1]\n",
    "\n",
    "print x1[-1], x[-2] # negative indexing"
   ]
  },
  {
   "cell_type": "code",
   "execution_count": 19,
   "metadata": {
    "collapsed": false,
    "deletable": true,
    "editable": true
   },
   "outputs": [
    {
     "name": "stdout",
     "output_type": "stream",
     "text": [
      "['one', 'two'] ['three'] ['one', 'two'] []\n"
     ]
    }
   ],
   "source": [
    "# List slicing\n",
    "print x1[0:2], x1[2:-1], x1[0:2], x1[:0]"
   ]
  },
  {
   "cell_type": "code",
   "execution_count": 20,
   "metadata": {
    "collapsed": false,
    "deletable": true,
    "editable": true
   },
   "outputs": [
    {
     "data": {
      "text/plain": [
       "[100, 200, 66, 77, 88, 6, 7, 8]"
      ]
     },
     "execution_count": 20,
     "metadata": {},
     "output_type": "execute_result"
    }
   ],
   "source": [
    "# Modifying the list\n",
    "x2 = [1, 2, 3, 4, 5, 6, 7, 8]\n",
    "x2[1] = \"two\"\n",
    "x2[2:5] = [66, 77, 88]\n",
    "x2[:0] = [100, 200, 300]\n",
    "x2[2:5] = []  # delete list elements\n",
    "x2"
   ]
  },
  {
   "cell_type": "code",
   "execution_count": 31,
   "metadata": {
    "collapsed": false,
    "deletable": true,
    "editable": true
   },
   "outputs": [
    {
     "data": {
      "text/plain": [
       "2"
      ]
     },
     "execution_count": 31,
     "metadata": {},
     "output_type": "execute_result"
    }
   ],
   "source": [
    "# List methods\n",
    "x3 = [12, 13, 14]\n",
    "x3.append(15)\n",
    "\n",
    "x3.extend([7, 8, 9])\n",
    "\n",
    "x3.insert(2, 100)\n",
    "\n",
    "x3.sort()\n",
    "\n",
    "x3.insert(4, 100)\n",
    "\n",
    "x3.index(100)\n",
    "\n",
    "x3.count(100)"
   ]
  },
  {
   "cell_type": "code",
   "execution_count": 48,
   "metadata": {
    "collapsed": false,
    "deletable": true,
    "editable": true
   },
   "outputs": [
    {
     "data": {
      "text/plain": [
       "['a', 'b', 'c', 1, 2]"
      ]
     },
     "execution_count": 48,
     "metadata": {},
     "output_type": "execute_result"
    }
   ],
   "source": [
    "# List concatenation\n",
    "x4 = [\"a\", \"b\", \"c\"] + [1, 2]\n",
    "x4"
   ]
  },
  {
   "cell_type": "code",
   "execution_count": 32,
   "metadata": {
    "collapsed": false,
    "deletable": true,
    "editable": true
   },
   "outputs": [
    {
     "data": {
      "text/plain": [
       "5"
      ]
     },
     "execution_count": 32,
     "metadata": {},
     "output_type": "execute_result"
    }
   ],
   "source": [
    "# Count the elements in list\n",
    "len(x4)"
   ]
  },
  {
   "cell_type": "code",
   "execution_count": 34,
   "metadata": {
    "collapsed": false,
    "deletable": true,
    "editable": true
   },
   "outputs": [
    {
     "data": {
      "text/plain": [
       "88"
      ]
     },
     "execution_count": 34,
     "metadata": {},
     "output_type": "execute_result"
    }
   ],
   "source": [
    "# min and max of list elements\n",
    "min([23, 45, 24, 12, 17, 88])\n",
    "max([23, 45, 24, 12, 17, 88])"
   ]
  },
  {
   "cell_type": "code",
   "execution_count": 49,
   "metadata": {
    "collapsed": false,
    "deletable": true,
    "editable": true
   },
   "outputs": [],
   "source": [
    "import copy\n",
    "x4.append([1,2,3])\n",
    "# x5 = x4[:], x5 = x4.copy()\n",
    "x6 = copy.deepcopy(x4)"
   ]
  },
  {
   "cell_type": "code",
   "execution_count": 50,
   "metadata": {
    "collapsed": false,
    "deletable": true,
    "editable": true
   },
   "outputs": [
    {
     "name": "stdout",
     "output_type": "stream",
     "text": [
      "['a', 'b', 'c', 1, 2, [1, 2, 3]] ['a', 'b', 'c', 1, 2, [1, 2, 3, 4]]\n"
     ]
    }
   ],
   "source": [
    "# x5.insert(0, \"z\")\n",
    "# x5[-1].append(4)\n",
    "x6[-1].append(4)\n",
    "print x4, x6"
   ]
  },
  {
   "cell_type": "code",
   "execution_count": 53,
   "metadata": {
    "collapsed": false,
    "deletable": true,
    "editable": true
   },
   "outputs": [
    {
     "name": "stdout",
     "output_type": "stream",
     "text": [
      "[34, 54, 56, 67, 70, 84] [84, 70, 67, 56, 54, 34]\n"
     ]
    }
   ],
   "source": [
    "# sorted function\n",
    "x7 = [34, 54, 67, 84, 56, 70]\n",
    "x7_1 = sorted(x7)\n",
    "x7_2 = sorted(x7, reverse=True)\n",
    "print x7_1, x7_2"
   ]
  },
  {
   "cell_type": "code",
   "execution_count": null,
   "metadata": {
    "collapsed": true,
    "deletable": true,
    "editable": true
   },
   "outputs": [],
   "source": [
    "# TUPLE\n",
    "# Similar to lists, but are immutable\n",
    "# can contain different data types"
   ]
  },
  {
   "cell_type": "code",
   "execution_count": 54,
   "metadata": {
    "collapsed": false,
    "deletable": true,
    "editable": true
   },
   "outputs": [
    {
     "name": "stdout",
     "output_type": "stream",
     "text": [
      "(1, 2, 3) (1,)\n"
     ]
    }
   ],
   "source": [
    "# Define a tuple\n",
    "t1 = (1, 2, 3)\n",
    "t1_1 = (1,)\n",
    "print t1, t1_1"
   ]
  },
  {
   "cell_type": "code",
   "execution_count": 60,
   "metadata": {
    "collapsed": false,
    "deletable": true,
    "editable": true
   },
   "outputs": [
    {
     "data": {
      "text/plain": [
       "(1, 2)"
      ]
     },
     "execution_count": 60,
     "metadata": {},
     "output_type": "execute_result"
    }
   ],
   "source": [
    "# indexing works the same as lists but not assigning/modifying\n",
    "t1[2]\n",
    "t1[0:2]\n",
    "\n",
    "# t1[1] = 23\n",
    "# t1.append(23)"
   ]
  },
  {
   "cell_type": "code",
   "execution_count": 65,
   "metadata": {
    "collapsed": false,
    "deletable": true,
    "editable": true
   },
   "outputs": [
    {
     "data": {
      "text/plain": [
       "tuple"
      ]
     },
     "execution_count": 65,
     "metadata": {},
     "output_type": "execute_result"
    }
   ],
   "source": [
    "# tuples can be concatenated using + operator\n",
    "t2 = (1, 2, 3) + (4, 5, 6)\n",
    "type(t2)"
   ]
  },
  {
   "cell_type": "code",
   "execution_count": 67,
   "metadata": {
    "collapsed": false,
    "deletable": true,
    "editable": true
   },
   "outputs": [
    {
     "name": "stdout",
     "output_type": "stream",
     "text": [
      "1 2 <type 'int'>\n"
     ]
    }
   ],
   "source": [
    "# packing and unpacking\n",
    "# (one, two, three, four) = (1, 2, 3, 4)\n",
    "one, two, three, four = 1, 2, 3, 4\n",
    "print one, two, type(one)"
   ]
  },
  {
   "cell_type": "code",
   "execution_count": 69,
   "metadata": {
    "collapsed": false,
    "deletable": true,
    "editable": true
   },
   "outputs": [
    {
     "name": "stdout",
     "output_type": "stream",
     "text": [
      "[1, 2, 3, 4, 5, 6] <type 'list'>\n",
      "(1, 2, 3, 4, 5, 6) <type 'tuple'>\n"
     ]
    }
   ],
   "source": [
    "# Converting to list\n",
    "list1 = list(t2)\n",
    "print list1, type(list1)\n",
    "tuple1 = tuple(list1)\n",
    "print tuple1, type(tuple1)"
   ]
  },
  {
   "cell_type": "code",
   "execution_count": null,
   "metadata": {
    "collapsed": true,
    "deletable": true,
    "editable": true
   },
   "outputs": [],
   "source": [
    "# STRINGS\n",
    "# sequences of characters"
   ]
  },
  {
   "cell_type": "code",
   "execution_count": 72,
   "metadata": {
    "collapsed": false,
    "deletable": true,
    "editable": true
   },
   "outputs": [
    {
     "name": "stdout",
     "output_type": "stream",
     "text": [
      "H d llo world\n"
     ]
    }
   ],
   "source": [
    "# Define a string\n",
    "s = \"Hello world\"\n",
    "print s[0], s[-1], s[2:]"
   ]
  },
  {
   "cell_type": "code",
   "execution_count": 73,
   "metadata": {
    "collapsed": false,
    "deletable": true,
    "editable": true
   },
   "outputs": [
    {
     "data": {
      "text/plain": [
       "11"
      ]
     },
     "execution_count": 73,
     "metadata": {},
     "output_type": "execute_result"
    }
   ],
   "source": [
    "len(s)  # gives the length of the string\n",
    "# strings are not mutable and cannot be modified"
   ]
  },
  {
   "cell_type": "code",
   "execution_count": 80,
   "metadata": {
    "collapsed": false,
    "deletable": true,
    "editable": true
   },
   "outputs": [
    {
     "data": {
      "text/plain": [
       "['Welcome', 'to', 'day', 'one', 'of', 'the', 'python', 'course']"
      ]
     },
     "execution_count": 80,
     "metadata": {},
     "output_type": "execute_result"
    }
   ],
   "source": [
    "# split and join method\n",
    "s1 = \"data,science,with,python\"\n",
    "s11 = s1.split(\",\")\n",
    "s12 = \":\".join(s11)\n",
    "\n",
    "s2 = \"Welcome to day one of the python course\"\n",
    "s2.split()"
   ]
  },
  {
   "cell_type": "code",
   "execution_count": 82,
   "metadata": {
    "collapsed": false,
    "deletable": true,
    "editable": true
   },
   "outputs": [
    {
     "data": {
      "text/plain": [
       "'data,science,with,python'"
      ]
     },
     "execution_count": 82,
     "metadata": {},
     "output_type": "execute_result"
    }
   ],
   "source": [
    "# case conversions\n",
    "s12 = s1.upper()\n",
    "s12.lower()"
   ]
  },
  {
   "cell_type": "code",
   "execution_count": 89,
   "metadata": {
    "collapsed": false,
    "deletable": true,
    "editable": true
   },
   "outputs": [
    {
     "name": "stdout",
     "output_type": "stream",
     "text": [
      "10006 156.89\n",
      "<type 'str'>\n"
     ]
    }
   ],
   "source": [
    "# convert to number\n",
    "print int(\"10006\"), float(\"156.89\")\n",
    "\n",
    "# convert to string\n",
    "print str(10006)"
   ]
  },
  {
   "cell_type": "code",
   "execution_count": 96,
   "metadata": {
    "collapsed": false,
    "deletable": true,
    "editable": true
   },
   "outputs": [
    {
     "data": {
      "text/plain": [
       "'   machine learning'"
      ]
     },
     "execution_count": 96,
     "metadata": {},
     "output_type": "execute_result"
    }
   ],
   "source": [
    "# strip, lstrip, rstrip\n",
    "s3 = \"   machine learning      \"\n",
    "s3.strip()\n",
    "s3.lstrip()\n",
    "s3.rstrip()"
   ]
  },
  {
   "cell_type": "code",
   "execution_count": 108,
   "metadata": {
    "collapsed": false,
    "deletable": true,
    "editable": true
   },
   "outputs": [
    {
     "data": {
      "text/plain": [
       "True"
      ]
     },
     "execution_count": 108,
     "metadata": {},
     "output_type": "execute_result"
    }
   ],
   "source": [
    "# find, index, startswith, endswith\n",
    "s2 = \"Welcome to day one of the python course\"\n",
    "s2.index(\"o\")\n",
    "\n",
    "s2.find(\"python\")\n",
    "\n",
    "s2.startswith(\"Welcome\")\n",
    "s2.endswith(\"course\")"
   ]
  },
  {
   "cell_type": "code",
   "execution_count": 110,
   "metadata": {
    "collapsed": false,
    "deletable": true,
    "editable": true
   },
   "outputs": [
    {
     "data": {
      "text/plain": [
       "'Are:machine:learning:and:pattern:recognition:the:same:thing'"
      ]
     },
     "execution_count": 110,
     "metadata": {},
     "output_type": "execute_result"
    }
   ],
   "source": [
    "# Modify strings\n",
    "s4 = \"Are machine learning and pattern recognition the same thing\"\n",
    "s4.replace(\" \", \":\")"
   ]
  },
  {
   "cell_type": "code",
   "execution_count": 114,
   "metadata": {
    "collapsed": false,
    "deletable": true,
    "editable": true
   },
   "outputs": [
    {
     "data": {
      "text/plain": [
       "'Are pattern recognition and machine learning the same thing'"
      ]
     },
     "execution_count": 114,
     "metadata": {},
     "output_type": "execute_result"
    }
   ],
   "source": [
    "# String formatting\n",
    "\"{0} is different from {1} and {2}\".format(\"ML\", \"AI\", \"PR\")\n",
    "\"Are {ml} and {pr} the same thing\".format(pr=\"pattern recognition\", ml=\"machine learning\")\n",
    "\n",
    "\"Are %s and %s the same thing\" % (\"pattern recognition\", \"machine learning\")"
   ]
  },
  {
   "cell_type": "code",
   "execution_count": null,
   "metadata": {
    "collapsed": true,
    "deletable": true,
    "editable": true
   },
   "outputs": [],
   "source": [
    "# DICTIONARIES\n",
    "# Pythons version of hash maps/associative arrays\n",
    "# Used for representing key:value data"
   ]
  },
  {
   "cell_type": "code",
   "execution_count": 128,
   "metadata": {
    "collapsed": false,
    "deletable": true,
    "editable": true
   },
   "outputs": [
    {
     "data": {
      "text/plain": [
       "{1: 14, 'a': 12, 'b': 25, (1, 2, 3): 18}"
      ]
     },
     "execution_count": 128,
     "metadata": {},
     "output_type": "execute_result"
    }
   ],
   "source": [
    "# Define a dictionary\n",
    "y = {\"a\": 12}\n",
    "y[\"b\"] = 15\n",
    "y[1] = 14\n",
    "y[(1,2,3)] = 18\n",
    "y[\"b\"] = 25\n",
    "y"
   ]
  },
  {
   "cell_type": "code",
   "execution_count": 127,
   "metadata": {
    "collapsed": false,
    "deletable": true,
    "editable": true
   },
   "outputs": [
    {
     "data": {
      "text/plain": [
       "12"
      ]
     },
     "execution_count": 127,
     "metadata": {},
     "output_type": "execute_result"
    }
   ],
   "source": [
    "# Acessing dictionary items\n",
    "y[\"a\"]"
   ]
  },
  {
   "cell_type": "code",
   "execution_count": 133,
   "metadata": {
    "collapsed": false,
    "deletable": true,
    "editable": true
   },
   "outputs": [
    {
     "data": {
      "text/plain": [
       "{1: 14, 'a': 12, 'b': 25, 'c': 22, (1, 2, 3): 18}"
      ]
     },
     "execution_count": 133,
     "metadata": {},
     "output_type": "execute_result"
    }
   ],
   "source": [
    "# Basic dictionary methods\n",
    "y.keys()  # list all keys\n",
    "y.items()  # list all items\n",
    "y.values()  # list all values\n",
    "y.get(\"b\")  # returns the value for key \"b\"\n",
    "y.update({\"c\": 22})  # update the dict with the new item"
   ]
  },
  {
   "cell_type": "code",
   "execution_count": 134,
   "metadata": {
    "collapsed": false,
    "deletable": true,
    "editable": true
   },
   "outputs": [
    {
     "data": {
      "text/plain": [
       "5"
      ]
     },
     "execution_count": 134,
     "metadata": {},
     "output_type": "execute_result"
    }
   ],
   "source": [
    "# len function gives the number of items in a dict\n",
    "len(y)"
   ]
  },
  {
   "cell_type": "code",
   "execution_count": null,
   "metadata": {
    "collapsed": true,
    "deletable": true,
    "editable": true
   },
   "outputs": [],
   "source": [
    "# copy and delete\n",
    "z = y.copy()   # shallow copy\n",
    "p = copy.deepcopy(y)"
   ]
  },
  {
   "cell_type": "code",
   "execution_count": 135,
   "metadata": {
    "collapsed": false,
    "deletable": true,
    "editable": true
   },
   "outputs": [
    {
     "data": {
      "text/plain": [
       "{1: 14, 'a': 12, 'b': 25, (1, 2, 3): 18}"
      ]
     },
     "execution_count": 135,
     "metadata": {},
     "output_type": "execute_result"
    }
   ],
   "source": [
    "del(y[\"c\"])  # deletes the item with key \"c\""
   ]
  }
 ],
 "metadata": {
  "anaconda-cloud": {},
  "kernelspec": {
   "display_name": "Python [Root]",
   "language": "python",
   "name": "Python [Root]"
  },
  "language_info": {
   "codemirror_mode": {
    "name": "ipython",
    "version": 2
   },
   "file_extension": ".py",
   "mimetype": "text/x-python",
   "name": "python",
   "nbconvert_exporter": "python",
   "pygments_lexer": "ipython2",
   "version": "2.7.12"
  }
 },
 "nbformat": 4,
 "nbformat_minor": 2
}
